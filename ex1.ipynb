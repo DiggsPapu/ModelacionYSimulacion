{
 "cells": [
  {
   "cell_type": "markdown",
   "metadata": {},
   "source": [
    "# Ejercicio 01\n",
    "En una clase de modelación y simulación hay 1,000,000 estudiantes distribuidos de la siguiente manera:\n",
    "- 400,000 son mujeres\n",
    "- 300,000 personas usan lentes\n",
    "- 150,000 varones usan lentes\n",
    "Si se selecciona al azar un estudiante, ¿cuál es la probabilidad que sea mujer y use gafas?\n",
    "Si se selecciona a alguien que no usa lentes, ¿cuál es la probabilidad que sea varón?"
   ]
  },
  {
   "cell_type": "markdown",
   "metadata": {},
   "source": [
    "## Preparando datos"
   ]
  },
  {
   "cell_type": "code",
   "execution_count": 11,
   "metadata": {},
   "outputs": [
    {
     "name": "stdout",
     "output_type": "stream",
     "text": [
      "0.12\n"
     ]
    }
   ],
   "source": [
    "total_estudiantes = 1000000\n",
    "mujeres = 400000\n",
    "lentes = 300000\n",
    "varones_lentes = 150000\n",
    "varones = total_estudiantes - mujeres\n",
    "# Calculando probabilidades\n",
    "prob_lentes = lentes / total_estudiantes\n",
    "prob_mujer = mujeres / total_estudiantes\n",
    "prob_lentes_mujer = (prob_mujer * prob_lentes)\n",
    "prob_varon = (total_estudiantes - mujeres) / total_estudiantes\n",
    "prob_no_lentes_varon = (varones - varones_lentes) / (total_estudiantes - lentes)\n",
    "\n",
    "print(prob_mujer * prob_lentes)\n"
   ]
  },
  {
   "cell_type": "markdown",
   "metadata": {},
   "source": [
    "## Generando variables aleatorias (aceptación y rechazo)"
   ]
  },
  {
   "cell_type": "code",
   "execution_count": 13,
   "metadata": {},
   "outputs": [
    {
     "name": "stdout",
     "output_type": "stream",
     "text": [
      "Probabilidad estimada de ser mujer y usar lentes (usando aceptación y rechazo): 0.11003\n",
      "Probabilidad estimada de ser varón si no usa lentes (usando aceptación y rechazo): 0.88997\n"
     ]
    }
   ],
   "source": [
    "import random\n",
    "def generar_variable_aleatoria():\n",
    "    while True:\n",
    "        # Genera un estudiante aleatorio\n",
    "        estudiante = random.random()\n",
    "        \n",
    "        if estudiante < prob_mujer:\n",
    "            # Mujer\n",
    "            prob = random.random()\n",
    "            if prob < prob_lentes_mujer:\n",
    "                return 'Mujer y Lentes'\n",
    "        else:\n",
    "            prob = random.random()\n",
    "            if prob < prob_no_lentes_varon:\n",
    "                return 'Varón y No Lentes'\n",
    "\n",
    "num_simulaciones = 100000\n",
    "contador_mujer_lentes = 0\n",
    "contador_varon_no_lentes = 0\n",
    "\n",
    "for _ in range(num_simulaciones):\n",
    "    estudiante = generar_variable_aleatoria()\n",
    "    \n",
    "    if estudiante == 'Mujer y Lentes':\n",
    "        contador_mujer_lentes += 1\n",
    "    elif estudiante == 'Varón y No Lentes':\n",
    "        contador_varon_no_lentes += 1\n",
    "\n",
    "prob_estimada_mujer_lentes = contador_mujer_lentes / num_simulaciones\n",
    "prob_estimada_varon_no_lentes = contador_varon_no_lentes / num_simulaciones\n",
    "\n",
    "print(\"Probabilidad estimada de ser mujer y usar lentes (usando aceptación y rechazo):\", prob_estimada_mujer_lentes)\n",
    "print(\"Probabilidad estimada de ser varón si no usa lentes (usando aceptación y rechazo):\", prob_estimada_varon_no_lentes)"
   ]
  },
  {
   "cell_type": "code",
   "execution_count": null,
   "metadata": {},
   "outputs": [],
   "source": []
  }
 ],
 "metadata": {
  "kernelspec": {
   "display_name": "venv",
   "language": "python",
   "name": "python3"
  },
  "language_info": {
   "codemirror_mode": {
    "name": "ipython",
    "version": 3
   },
   "file_extension": ".py",
   "mimetype": "text/x-python",
   "name": "python",
   "nbconvert_exporter": "python",
   "pygments_lexer": "ipython3",
   "version": "3.11.4"
  },
  "orig_nbformat": 4
 },
 "nbformat": 4,
 "nbformat_minor": 2
}
